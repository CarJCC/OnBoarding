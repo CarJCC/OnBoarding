{
  "cells": [
    {
      "cell_type": "markdown",
      "metadata": {},
      "source": [
        "# Ejercicio: Uso de funciones en Python"
      ]
    },
    {
      "cell_type": "markdown",
      "metadata": {},
      "source": [
        "### Ejercicio 1: Trabajar con argumentos en funciones\n",
        "\n",
        "Los argumentos requeridos en las funciones se utilizan cuando las funciones necesitan que esos argumentos funcionen correctamente. En este ejercicio, construirás un informe de combustible que requiere información de varias ubicaciones de combustible en todo el cohete.\n",
        "\n"
      ]
    },
    {
      "cell_type": "markdown",
      "metadata": {},
      "source": [
        "Comienza por crear una función que necesite tres lecturas de combustible y devuelva un informe:"
      ]
    },
    {
      "cell_type": "code",
      "execution_count": 7,
      "metadata": {},
      "outputs": [],
      "source": [
        "# Función para leer 3 tanques de combustible y muestre el promedio\n",
        "\n",
        "def report (tank_1, tank_2, tank_3):\n",
        "    \n",
        "    average = (tank_1 + tank_2 + tank_3)/3\n",
        "    \n",
        "    return f\"\"\"Reporte de combustible:\n",
        "    Combustible promedio: {average}%\n",
        "    Tanque 1: {tank_1}%\n",
        "    Tanque 2: {tank_2}%\n",
        "    Tanque 3: {tank_3}% \n",
        "    \"\"\""
      ]
    },
    {
      "cell_type": "markdown",
      "metadata": {},
      "source": [
        "Ahora que hemos definido la función de informes, vamos a comprobarlo. Para esta misión, los tanques no están llenos:"
      ]
    },
    {
      "cell_type": "code",
      "execution_count": 8,
      "metadata": {},
      "outputs": [
        {
          "name": "stdout",
          "output_type": "stream",
          "text": [
            "Reporte de combustible:\n",
            "    Combustible promedio: 56.333333333333336%\n",
            "    Tanque 1: 99%\n",
            "    Tanque 2: 60%\n",
            "    Tanque 3: 10% \n",
            "    \n"
          ]
        }
      ],
      "source": [
        "\n",
        "# Llamamos a la función que genera el reporte print(funcion(tanque1, tanque2, tanque3))\n",
        "\n",
        "print(report(99, 60, 10))"
      ]
    },
    {
      "cell_type": "markdown",
      "metadata": {},
      "source": [
        "En lugar de simplemente crear el informe, la función también está calculando el promedio. Mejora la legibilidad extrayendo el cálculo promedio de la función en una nueva función para que el promedio se pueda hacer de forma independiente:"
      ]
    },
    {
      "cell_type": "code",
      "execution_count": 9,
      "metadata": {},
      "outputs": [
        {
          "data": {
            "text/plain": [
              "60.0"
            ]
          },
          "execution_count": 9,
          "metadata": {},
          "output_type": "execute_result"
        }
      ],
      "source": [
        "# Función promedio \n",
        "def average (values):\n",
        "    return sum(values) / len(values)\n",
        "\n",
        "average ([70,100,50,20])"
      ]
    },
    {
      "cell_type": "markdown",
      "metadata": {},
      "source": [
        "Ahora actualiza la función de informes para llamando a la nueva función del promedio:\n"
      ]
    },
    {
      "cell_type": "code",
      "execution_count": 10,
      "metadata": {},
      "outputs": [
        {
          "name": "stdout",
          "output_type": "stream",
          "text": [
            "Reporte de combustible:\n",
            "    Combustible promedio: 56.333333333333336%\n",
            "    Tanque 1: 99%\n",
            "    Tanque 2: 60%\n",
            "    Tanque 3: 10% \n",
            "    \n"
          ]
        }
      ],
      "source": [
        "# Actualiza la función\n",
        "def report_update (tank_1, tank_2, tank_3):\n",
        "\n",
        "    return f\"\"\"Reporte de combustible:\n",
        "    Combustible promedio: {average([tank_1, tank_2, tank_3])}%\n",
        "    Tanque 1: {tank_1}%\n",
        "    Tanque 2: {tank_2}%\n",
        "    Tanque 3: {tank_3}% \n",
        "    \"\"\"\n",
        "\n",
        "print (report_update(99, 60, 10))"
      ]
    },
    {
      "cell_type": "markdown",
      "metadata": {},
      "source": [
        "## Ejercicio 2: Trabajo con argumentos de palabra clave"
      ]
    },
    {
      "cell_type": "markdown",
      "metadata": {},
      "source": [
        "### Ejercicio : Trabajar con argumentos de palabras clave en funciones\n",
        "En este ejercicio, construirás un informe de cohete que requiere varias piezas de información, como el tiempo hasta el destino, el combustible a la izquierda y el nombre del destino. Comienza por crear una función que creará un informe preciso de la misión:"
      ]
    },
    {
      "cell_type": "code",
      "execution_count": 11,
      "metadata": {},
      "outputs": [
        {
          "name": "stdout",
          "output_type": "stream",
          "text": [
            "Reporte de mision:\n",
            "    Destino: Júpiter\n",
            "    Hora de prelanzamiento: 50\n",
            "    Tiempo de vuelo: 40 minutos\n",
            "    Combustible total: 1330500 litros\n",
            "    \n"
          ]
        }
      ],
      "source": [
        "# Función con un informe preciso de la misión. Considera hora de prelanzamiento, tiempo de vuelo, destino, tanque externo y tanque interno\n",
        "\n",
        "def mission_report (prelaunch_time, flight_time, destination, external_tank, internal_tank):\n",
        "    \n",
        "    return f\"\"\"Reporte de mision:\n",
        "    Destino: {destination}\n",
        "    Hora de prelanzamiento: {prelaunch_time}\n",
        "    Tiempo de vuelo: {flight_time} minutos\n",
        "    Combustible total: {external_tank + internal_tank} litros\n",
        "    \"\"\"\n",
        "    \n",
        "print(mission_report (50, 40, \"Júpiter\", 800000, 530500))"
      ]
    },
    {
      "cell_type": "markdown",
      "metadata": {},
      "source": [
        "La función es problemática porque no se puede adaptar para minutos adicionales o tanques adicionales de combustible. Hazlo más flexible permitiendo cualquier número de pasos basados en el tiempo y cualquier número de tanques. En lugar de usar `*args` y `**kwargs`, aprovecha el hecho de que puedes usar cualquier nombre que desees. Asegurate que la función sea más legible mediante el uso de nombres de variables que están asociados con las entradas, como `*minutes` y `**fuel_reservoirs`:"
      ]
    },
    {
      "cell_type": "code",
      "execution_count": 12,
      "metadata": {},
      "outputs": [
        {
          "name": "stdout",
          "output_type": "stream",
          "text": [
            "Reporte de misión:\n",
            "    Destino: Júpiter\n",
            "    Tiempo de viaje: 390 minutos\n",
            "    Combustible total: 9948200 litros\n",
            "    \n"
          ]
        }
      ],
      "source": [
        "# Escribe tu nueva función de reporte considerando lo anterior\n",
        "def mission_report_update (destination, *minutes, **fuel_reservoirs):\n",
        "    \n",
        "    return f\"\"\"Reporte de misión:\n",
        "    Destino: {destination}\n",
        "    Tiempo de viaje: {sum(minutes)} minutos\n",
        "    Combustible total: {sum ( fuel_reservoirs.values())} litros\n",
        "    \"\"\"\n",
        "    \n",
        "print(mission_report_update( \"Júpiter\", 80, 120, 190, External = 9352000, Internal = 596200))\n"
      ]
    },
    {
      "cell_type": "markdown",
      "metadata": {},
      "source": [
        "Debido a que el combustible que queda en los tanques es específico de cada tanque, actualiza la función para usar el nombre de cada tanque en el informe:"
      ]
    },
    {
      "cell_type": "code",
      "execution_count": 14,
      "metadata": {},
      "outputs": [
        {
          "name": "stdout",
          "output_type": "stream",
          "text": [
            "Reporte de misión:\n",
            "    Destino: Marte\n",
            "    Tiempo de viaje: 175 minutos\n",
            "    Combustible total: 9948200 litros\n",
            "    External tank contiene 9352000 litros. Internal tank contiene 596200 litros. \n"
          ]
        }
      ],
      "source": [
        "# Escribe tu nueva función\n",
        "def mission_report_update (destination, *minutes, **fuel_reservoirs):\n",
        "    \n",
        "    report = f\"\"\"Reporte de misión:\n",
        "    Destino: {destination}\n",
        "    Tiempo de viaje: {sum(minutes)} minutos\n",
        "    Combustible total: {sum ( fuel_reservoirs.values())} litros\n",
        "    \"\"\"\n",
        "    \n",
        "    for tank, capacity in fuel_reservoirs.items():\n",
        "        report += f\"{tank} tank contiene {capacity} litros. \"\n",
        "\n",
        "    return report\n",
        "    \n",
        "print(mission_report_update( \"Marte\" , 25, 30, 120, External = 9352000, Internal = 596200 ))\n"
      ]
    },
    {
      "cell_type": "markdown",
      "metadata": {},
      "source": [
        "---\n",
        "\n",
        "Curso Propedútico de Python para Launch X - Innovacción Virtual.\n",
        "\n",
        "Material desarrollado con base en los contenidos de MSLearn y la metáfora de LaunchX, traducción e implementación por: Fernanda Ochoa - Learning Producer de LaunchX.\n",
        "\n",
        "Redes:\n",
        "* GitHub: [FernandaOchoa](https://github.com/FernandaOchoa)\n",
        "* Twitter: [@imonsh](https://twitter.com/imonsh)\n",
        "* Instagram: [fherz8a](https://www.instagram.com/fherz8a/)"
      ]
    }
  ],
  "metadata": {
    "interpreter": {
      "hash": "205095b8b86ea82a021a8fc2ffba2b3bc9f8d0be25999901963b225939f75778"
    },
    "kernelspec": {
      "display_name": "Python 3.8.10 64-bit ('tmp': conda)",
      "name": "python3"
    },
    "language_info": {
      "codemirror_mode": {
        "name": "ipython",
        "version": 3
      },
      "file_extension": ".py",
      "mimetype": "text/x-python",
      "name": "python",
      "nbconvert_exporter": "python",
      "pygments_lexer": "ipython3",
      "version": "3.7.9"
    },
    "nteract": {
      "version": "nteract-front-end@1.0.0"
    },
    "orig_nbformat": 4
  },
  "nbformat": 4,
  "nbformat_minor": 2
}
